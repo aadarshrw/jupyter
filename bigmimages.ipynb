{
 "cells": [
  {
   "cell_type": "code",
   "execution_count": 2,
   "id": "c1c71cf5-73b6-415c-8aa4-249baa093c01",
   "metadata": {},
   "outputs": [
    {
     "name": "stdout",
     "output_type": "stream",
     "text": [
      "Downloaded: mohanlal_images\\36fa46df8d2916ad17a9c587f1659d81.jpg\n",
      "Downloaded: mohanlal_images\\cd22cfaeea8fa1e229c43f76c5d7f197.jpg\n",
      "Downloaded: mohanlal_images\\3a364554932e9cd3ca1d55d8ff143aae.jpg\n",
      "Downloaded: mohanlal_images\\b351fcb1f01ed69f1b8e31d9d585d8af.jpg\n",
      "Downloaded: mohanlal_images\\fe25366aabd391b4cbec019c78e3fa34.jpg\n",
      "Downloaded: mohanlal_images\\ff992f4ec508e43ad8631a0eec090fa5.jpg\n",
      "Downloaded: mohanlal_images\\25d84a6037733545e3e7cf1d32680134.jpg\n",
      "Downloaded: mohanlal_images\\47f9e829ff7ca7bcc940c22e87d74ef1.jpg\n",
      "Downloaded: mohanlal_images\\1f09a62adde045d55df2598a10d5f770.jpg\n",
      "Downloaded: mohanlal_images\\991c0d742f34f95627ecf2603abeb33d.jpg\n",
      "Downloaded: mohanlal_images\\f158ab06799312c47d630ce1e9807ba8.jpg\n",
      "Downloaded: mohanlal_images\\3a3096d74907a51457ecb659edfcf742.jpg\n",
      "Downloaded: mohanlal_images\\6caa48559a6abca4b6888a8ab72dc2b5.jpg\n",
      "Downloaded: mohanlal_images\\69a343e2e46ab72f65a6e1e108f7e1ef.jpg\n",
      "Downloaded: mohanlal_images\\e96c6409d133800307e2887c0028a5e4.jpg\n",
      "Downloaded: mohanlal_images\\59511bd1720875f13895c699cabecdb5.jpg\n",
      "Downloaded: mohanlal_images\\1f7d28ca662b9c166ee6e07168476195.jpg\n",
      "Downloaded: mohanlal_images\\720b3891cb43814bceffa05c47d8fa3e.jpg\n",
      "Downloaded: mohanlal_images\\f03da4f4ac5ccdf905e06dbddc0a5713.jpg\n",
      "Downloaded: mohanlal_images\\c50e6f105fb436f45e930314eb00a1e6.jpg\n",
      "Downloaded: mohanlal_images\\f0c85c8b7ece28e79a63e6bb2aad7ed1.jpg\n",
      "Downloaded: mohanlal_images\\daef40088a5f28b005ca951eaf1f74b1.jpg\n",
      "Downloaded: mohanlal_images\\234fa4129b54f67fe1af92f1e17516ab.jpg\n",
      "Downloaded: mohanlal_images\\c59521a431120b37ed1849e5cde25f5b.jpg\n",
      "Downloaded: mohanlal_images\\c702a11741f1c7e65dc93d5fc8c26c0c.jpg\n",
      "Downloaded: mohanlal_images\\bc6069103db557d52cea658eb0f58c1f.jpg\n",
      "Downloaded: mohanlal_images\\173e65b5d55f40214d11f4024078c446.jpg\n",
      "Downloaded: mohanlal_images\\34d36ec9801c915f32344eeedbda78a9.jpg\n",
      "Downloaded: mohanlal_images\\6e6971d96b8a17809ba9f12938d73750.jpg\n",
      "Downloaded: mohanlal_images\\6e9faddd3cd21c2607f6d0e7c8f16f4d.jpg\n",
      "Downloaded: mohanlal_images\\11e37e8598d05295ee260fd47bf0bc4a.jpg\n",
      "Downloaded: mammootty_images\\3de1e4d9014780b9738ba307ef64c526.jpg\n",
      "Downloaded: mammootty_images\\b2d8314308941af2f8784b99eb68c8e8.jpg\n",
      "Downloaded: mammootty_images\\98a410c4f96beaffbc8fb41bf8db307b.jpg\n",
      "Downloaded: mammootty_images\\fd984b56f6575ea11226f73b7e738b75.jpg\n",
      "Downloaded: mammootty_images\\bdd6ab84bf31f49ec1d6f07b7a6115e4.jpg\n",
      "Downloaded: mammootty_images\\bf7f99b8c3c375b9b5b77d38bbaa2edb.jpg\n",
      "Downloaded: mammootty_images\\256ff0c1a4d520ff92da441d1747c2f0.jpg\n",
      "Downloaded: mammootty_images\\11209eb11d81c52a9ebdb8e0dced4797.jpg\n",
      "Downloaded: mammootty_images\\da0674f50971ace97efd8b63f21d3eaa.jpg\n",
      "Downloaded: mammootty_images\\f2135d555020635b1ed88024fa7e02e9.jpg\n",
      "Downloaded: mammootty_images\\c047934e49eae4afd8977f871dd90138.jpg\n",
      "Downloaded: mammootty_images\\5d855841de0ff1c8cee10f119953985b.jpg\n",
      "Downloaded: mammootty_images\\056527080bd0f988ea87486a6eeba4a3.jpg\n",
      "Downloaded: mammootty_images\\df4f87ef65dec8f484cfa0e9e3c87eb4.jpg\n",
      "Downloaded: mammootty_images\\008cc68d2f75c1fa3bcba84db5367eb8.jpg\n",
      "Downloaded: mammootty_images\\2a0dab2b5627cafe9ce38ef71ec97011.jpg\n"
     ]
    }
   ],
   "source": [
    "import requests\n",
    "from bs4 import BeautifulSoup\n",
    "import os\n",
    "\n",
    "def scrape_images(url, directory):\n",
    "    response = requests.get(url)\n",
    "    soup = BeautifulSoup(response.content, 'html.parser')\n",
    "    img_tags = soup.find_all('img')\n",
    "    for img_tag in img_tags:\n",
    "        img_url = img_tag['src']\n",
    "        img_response = requests.get(img_url)\n",
    "        img_name = os.path.join(directory, os.path.basename(img_url))\n",
    "        with open(img_name, 'wb') as img_file:\n",
    "            img_file.write(img_response.content)\n",
    "        print(f\"Downloaded: {img_name}\")\n",
    "\n",
    "mohanlal_url = 'https://www.pinterest.com/jmangalathu/mohanlal/'\n",
    "mammootty_url = 'https://in.pinterest.com/nandukmlm/mammootty/'\n",
    "\n",
    "mohanlal_directory = 'mohanlal_images'\n",
    "mammootty_directory = 'mammootty_images'\n",
    "\n",
    "os.makedirs(mohanlal_directory, exist_ok=True)\n",
    "os.makedirs(mammootty_directory, exist_ok=True)\n",
    "\n",
    "scrape_images(mohanlal_url, mohanlal_directory)\n",
    "\n",
    "scrape_images(mammootty_url, mammootty_directory)\n"
   ]
  },
  {
   "cell_type": "code",
   "execution_count": null,
   "id": "eb6eb233-c3e0-4c36-9662-13407d926d7e",
   "metadata": {},
   "outputs": [],
   "source": []
  }
 ],
 "metadata": {
  "kernelspec": {
   "display_name": "Python 3 (ipykernel)",
   "language": "python",
   "name": "python3"
  },
  "language_info": {
   "codemirror_mode": {
    "name": "ipython",
    "version": 3
   },
   "file_extension": ".py",
   "mimetype": "text/x-python",
   "name": "python",
   "nbconvert_exporter": "python",
   "pygments_lexer": "ipython3",
   "version": "3.12.2"
  }
 },
 "nbformat": 4,
 "nbformat_minor": 5
}
